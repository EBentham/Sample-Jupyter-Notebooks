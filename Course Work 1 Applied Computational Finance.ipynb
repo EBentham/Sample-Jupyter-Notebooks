{
 "cells": [
  {
   "cell_type": "markdown",
   "metadata": {},
   "source": [
    "# Applied Computational Finance Coursework 1\n",
    "\n",
    "<p><p> In this Coursework, two approaches will be used to solve the following linear system $Ax = b$ where:\n",
    "    \n",
    "<p> $$ A = \\begin{bmatrix} 0 & 3 & -1 & 8 \\\\ -1 & 11 & -1 & 3 \\\\ 2 & -1 & 10 & -1 \\\\ 10 & -1 & 2 & 0\\end{bmatrix} ,    b = \\begin{bmatrix} 15 \\\\ 25 \\\\ -11 \\\\ 6\\end{bmatrix}$$\n",
    "<p> and $x = (x_1, x_2, x_3, x_4)^T$ is the solution to the system.\n",
    "    \n",
    "## Question 1\n",
    "    \n",
    "The first step of solving this system is to check where the matrix $A$ is strictly diagonally dominant. A matrix is defined as strictly diagonally dominant if the absolute value of the diagonal element is greater than the sum of the absolute values of the rest of the elements in that row. This is expressed as:\n",
    "    \n",
    "<p> $$|M_{ii}| > \\sum_{j\\neq1} |M_{ij}|$$\n",
    "    \n",
    "It is often useful to check whether a matrix is strictly diagonally dominant, as it ensures that iterative techniques such the Gauss-Seidel Method wil converge to a solution. It also prevents zero values on the principal diagonal, which would cause problems when implementing LU decomposition (due to diving through by zero)."
   ]
  },
  {
   "cell_type": "code",
   "execution_count": 25,
   "metadata": {},
   "outputs": [],
   "source": [
    "import numpy as np                                    #Setting up the problem\n",
    "import pprint\n",
    "from sympy import Matrix\n",
    "import time\n",
    "\n",
    "A = np.matrix([[0, 3, -1, 8], [-1, 11, -1, 3],[2, -1, 10, -1], [10, -1, 2, 0]])\n",
    "B = np.matrix([[15], [25], [-11], [6]])\n",
    "\n",
    "sol=np.matrix([1,2,-1,1])"
   ]
  },
  {
   "cell_type": "code",
   "execution_count": 26,
   "metadata": {
    "scrolled": true
   },
   "outputs": [],
   "source": [
    "#Check is a Matrix is diagonally dominant, Q1\n",
    "\n",
    "def sdd_check(A):\n",
    "    \n",
    "    strictlyDiagonallyDominant = True\n",
    "    for i in range (0, len(A)):                   #iterates through each row\n",
    "        count = 0\n",
    "        for j in range (0, len(A)):             \n",
    "            count += np.abs(A[i, j])              #sum of the row\n",
    "        count -= A[i,i]                           #minus A[i,i]\n",
    "        if A[i,i] < count:                        #checks if A[i,i] is large than sum -A[i,i]\n",
    "            strictlyDiagonallyDominant = False\n",
    "\n",
    "    if strictlyDiagonallyDominant == True:\n",
    "        print(\"The matrix is strictly diagonally dominant!!\")\n",
    "    else:\n",
    "        print(\"The matrix is not strictly diagonally dominant!!\")"
   ]
  },
  {
   "cell_type": "markdown",
   "metadata": {},
   "source": [
    "The above code, function sdd_check() simply checks the condition states above. If $|M_{ii}| > \\sum_{j\\neq1} |M_{ij}|$ then a print statement will be issued stating the matrix is indeed strictly diagonally dominant as it satisfies the condition. Else another statement will be issued stating it is not."
   ]
  },
  {
   "cell_type": "code",
   "execution_count": 27,
   "metadata": {},
   "outputs": [
    {
     "name": "stdout",
     "output_type": "stream",
     "text": [
      "The matrix is not strictly diagonally dominant!!\n"
     ]
    }
   ],
   "source": [
    "sdd_check(A)"
   ]
  },
  {
   "cell_type": "markdown",
   "metadata": {},
   "source": [
    "When calling this function and inputting our matrix $A$, we find out that the matrix is not strictly diagonally dominant."
   ]
  },
  {
   "cell_type": "markdown",
   "metadata": {},
   "source": [
    "## Question 2\n",
    "\n",
    "When solving linear systems, it can be advantageous to break down the intial problem $Ax = b$ into two smaller problems, $Lz=b$ and $Ux=z$. This can be done by deconstructing our initial matrix $A$ into two components $L$ and $U$, lower and upper triangular matrices such that $LU=A$. This process is named LU decomposition, and there are many such methods of obtaining different matrices of $L$ and $U$, in this report we will look at two of the most prominent; Dolittle and Crout's method of LU Decomposition.\n",
    "\n",
    "### Dolittle Method of LU decomposition\n",
    "\n",
    "The algorithm to define the matrices $L$ and $U$ is:\n",
    "\n",
    "$$u_{ij} = a_{ij} - \\sum_{k=1}^{i-1} u_{kj}l_{ik}$$\n",
    "\n",
    "\n",
    "$$l_{ij} = \\frac{1}{u_{jj}}(a_{ij} - \\sum_{k=1}^{i-1} u_{kj}l_{ik})$$\n",
    "\n",
    "and all values of $L$ on the principal diagonal are equal to 1\n",
    "\n",
    "\n",
    "$$l_{ii} = 1 \\hspace{0.5cm}\\forall i \\in \\{1,..,n\\}$$"
   ]
  },
  {
   "cell_type": "code",
   "execution_count": 28,
   "metadata": {},
   "outputs": [],
   "source": [
    "def dolittle(A):\n",
    "    \n",
    "    n = len(A)\n",
    "    L = np.zeros((n,n))\n",
    "    U = np.zeros((n,n))\n",
    "\n",
    "    for i in range(n):                \n",
    "        for j in range(i, n):                    #sum to generate U\n",
    "            summ = 0\n",
    "            for k in range(i):\n",
    "                summ += L[i,k]*U[k,j]\n",
    "            U[i, j] = A[i, j] - summ  \n",
    "\n",
    "        for j in range(i,n):                     #sum to generate L\n",
    "            if i == j:\n",
    "                L[i,j] =1\n",
    "            elif U[i,i] != 0:\n",
    "                summ = 0\n",
    "                for k in range(i):\n",
    "                    summ += L[j,k] * U[k,i]\n",
    "                L[j,i] = (A[j, i] - summ)/U[i,i]\n",
    "    return L, U"
   ]
  },
  {
   "cell_type": "markdown",
   "metadata": {},
   "source": [
    "## Crout's Method of LU decomposition\n",
    "Crouts algorithm is similar to the Dolittle algorithm, except all values of $U$ on the principal diagonal are set to 1 rather than that of $L$. The algorithm to implement Crout's method can be defined as:\n",
    "\n",
    "$$l_{ij} = a_{ij} - \\sum_{k=1}^{i-1} u_{kj}l_{ik}$$\n",
    "$$u_{ij} = \\frac{1}{l_{jj}}(a_{ij} - \\sum_{k=1}^{i-1} u_{kj}l_{ik})$$\n",
    "\n",
    "and all values of $U$ on the principal diagonal are equal to 1\n",
    "\n",
    "$$u_{ii} = 1 \\hspace{0.5cm}\\forall i \\in \\{1,..,n\\}$$"
   ]
  },
  {
   "cell_type": "code",
   "execution_count": 29,
   "metadata": {},
   "outputs": [],
   "source": [
    "def crout(A):\n",
    "    \n",
    "    n = len(A)\n",
    "    L = np.zeros((n,n))\n",
    "    U = np.zeros((n,n))\n",
    "\n",
    "    for i in range(n):\n",
    "        for j in range(i,n):                    #sum to generate L\n",
    "            summ=0\n",
    "            for k in range(i):\n",
    "                summ +=  L[j,k]*U[k,i]\n",
    "            L[j,i] = A[j,i] - summ\n",
    "        for j in range (i,n):                   #sum to generate U\n",
    "            summ=0\n",
    "            if i == j:\n",
    "                U[i,j] =1\n",
    "            for k in range(j):\n",
    "                summ +=  L[i,k]*U[k,j]\n",
    "            U[i,j] = (A[i,j] - summ)/L[i,i]\n",
    "    return L, U"
   ]
  },
  {
   "cell_type": "markdown",
   "metadata": {},
   "source": [
    "When generating our upper and lower triangular matrices using Dolittle and Crout's method however for our matrix $A$ we see that is produces an error. This relates back to question 1, where we found using the sdd_check function that our matrix $A$ was not strictly diagonally dominant. Due to this, we see that we have zero values at $A_{00}$ and $A_{33}$. Clearly looking at the algorithm for both Dolittle and Crout, a division of $l_{ii}$ and $u_{ii}$is used, which is not defined when $A_{ii} = 0$, resulting in our error.\n",
    "\n",
    "To solve this problem, we must used a pivot matrix, $P$, to rearrange our matrix $A$ such that it is strictly diagonally dominant. This can be done using the following function, which simply swaps rows of an identity matrix such that the largest value in that column resides on the principal diagonal."
   ]
  },
  {
   "cell_type": "code",
   "execution_count": 30,
   "metadata": {},
   "outputs": [],
   "source": [
    "def permute(matrix):\n",
    "    n = matrix.shape[0]\n",
    "    U = matrix.copy()\n",
    "    eye = np.identity(n)\n",
    "    \n",
    "    for i in range(n):\n",
    "        index = np.argmax(abs(U[i:,i]))                #checks position of largest value of column\n",
    "        index = index + i                              #position of diagonal\n",
    "        if index != i:                                 #if index of largest value is not index of diagonal, swap row\n",
    "            P = np.identity(n)\n",
    "            P[[index,i],i:n] = P[[i,index],i:n]\n",
    "\n",
    "    return P"
   ]
  },
  {
   "cell_type": "markdown",
   "metadata": {},
   "source": [
    "Now using the pivot matrix, $P$,  our linear system becomes:\n",
    "\n",
    "$$(PA)x=(Pb)$$\n",
    "$$Cx=d$$\n",
    "\n",
    "Where:\n",
    "\n",
    "$$ P = \\begin{bmatrix} 0 & 0 & 0 & 1 \\\\ 0 & 1 & 0 & 0 \\\\ 0 & 0 & 1 & 0 \\\\ 1 & 0 & 0 & 0\\end{bmatrix} $$\n",
    "    \n",
    "and \n",
    "<p> $$ C = \\begin{bmatrix} 10 & -1 & 2 & 0 \\\\ -1 & 11 & -1 & 3 \\\\ 2 & -1 & 10 & -1 \\\\ 0 & 3 & -1 & 8\\end{bmatrix} ,    d = \\begin{bmatrix} 6 \\\\ 25 \\\\ -11 \\\\ 15\\end{bmatrix}$$\n",
    "    \n",
    "We can also check that our new matrix, $C$, is strictly diagonally dominant."
   ]
  },
  {
   "cell_type": "code",
   "execution_count": 31,
   "metadata": {},
   "outputs": [
    {
     "name": "stdout",
     "output_type": "stream",
     "text": [
      "The matrix is strictly diagonally dominant!!\n"
     ]
    }
   ],
   "source": [
    "P=permute(A)\n",
    "C=np.matmul(P,A)\n",
    "D=np.matmul(P,B)\n",
    "sdd_check(C)"
   ]
  },
  {
   "cell_type": "markdown",
   "metadata": {},
   "source": [
    "The last part of solving our linear system using LU decomposition is solving for the intermediate vector $z$ where $Lz=d$. This can be solved using forward substitution. We can then substitute our value of $z$ into $z=Ux$ and solve for $x$ using backwards substitution. Below two functions are defined which carry out forward and backward substitution."
   ]
  },
  {
   "cell_type": "code",
   "execution_count": 32,
   "metadata": {},
   "outputs": [],
   "source": [
    "def forward_substitution(L, b):\n",
    "    \n",
    "    n = len(L)\n",
    "    z = np.zeros(n)\n",
    "    \n",
    "    z[0] = b[0] / L[0, 0]          #initializing\n",
    "    \n",
    "    for i in range(1, n):\n",
    "        z[i] = (b[i] - np.dot(L[i,:i], z[:i])) / L[i,i]      #implementing forward sub algorithm\n",
    "        \n",
    "    return z\n",
    "\n",
    "def back_substitution(U, z):\n",
    "    \n",
    "    n = len(U)\n",
    "    x = np.zeros(n)\n",
    "\n",
    "    x[-1] = z[-1] / U[-1, -1]                          #initializing\n",
    "    \n",
    "    for i in range(n-2, -1, -1):\n",
    "        x[i] = (z[i] - np.dot(U[i,i:], x[i:])) / U[i,i]        #implementing back sub algorithm\n",
    "        \n",
    "    return x"
   ]
  },
  {
   "cell_type": "markdown",
   "metadata": {},
   "source": [
    "Now solving the linear system:"
   ]
  },
  {
   "cell_type": "code",
   "execution_count": 33,
   "metadata": {
    "scrolled": false
   },
   "outputs": [
    {
     "name": "stdout",
     "output_type": "stream",
     "text": [
      "L : \n"
     ]
    },
    {
     "data": {
      "text/latex": [
       "$\\displaystyle \\left[\\begin{matrix}1.0 & 0.0 & 0.0 & 0.0\\\\-0.1 & 1.0 & 0.0 & 0.0\\\\0.2 & -0.073394495412844 & 1.0 & 0.0\\\\0.0 & 0.275229357798165 & -0.0817307692307692 & 1.0\\end{matrix}\\right]$"
      ],
      "text/plain": [
       "Matrix([\n",
       "[ 1.0,                0.0,                 0.0, 0.0],\n",
       "[-0.1,                1.0,                 0.0, 0.0],\n",
       "[ 0.2, -0.073394495412844,                 1.0, 0.0],\n",
       "[ 0.0,  0.275229357798165, -0.0817307692307692, 1.0]])"
      ]
     },
     "metadata": {},
     "output_type": "display_data"
    },
    {
     "name": "stdout",
     "output_type": "stream",
     "text": [
      "U : \n"
     ]
    },
    {
     "data": {
      "text/latex": [
       "$\\displaystyle \\left[\\begin{matrix}10.0 & -1.0 & 2.0 & 0.0\\\\0.0 & 10.9 & -0.8 & 3.0\\\\0.0 & 0.0 & 9.54128440366972 & -0.779816513761468\\\\0.0 & 0.0 & 0.0 & 7.11057692307692\\end{matrix}\\right]$"
      ],
      "text/plain": [
       "Matrix([\n",
       "[10.0, -1.0,              2.0,                0.0],\n",
       "[ 0.0, 10.9,             -0.8,                3.0],\n",
       "[ 0.0,  0.0, 9.54128440366972, -0.779816513761468],\n",
       "[ 0.0,  0.0,              0.0,   7.11057692307692]])"
      ]
     },
     "metadata": {},
     "output_type": "display_data"
    },
    {
     "name": "stdout",
     "output_type": "stream",
     "text": [
      "\n",
      "intermediate vector z :\n"
     ]
    },
    {
     "data": {
      "text/latex": [
       "$\\displaystyle \\left[\\begin{matrix}6.0\\\\25.6\\\\-10.3211009174312\\\\7.11057692307692\\end{matrix}\\right]$"
      ],
      "text/plain": [
       "Matrix([\n",
       "[              6.0],\n",
       "[             25.6],\n",
       "[-10.3211009174312],\n",
       "[ 7.11057692307692]])"
      ]
     },
     "metadata": {},
     "output_type": "display_data"
    },
    {
     "name": "stdout",
     "output_type": "stream",
     "text": [
      "\n",
      "solution vector x :\n"
     ]
    },
    {
     "data": {
      "text/latex": [
       "$\\displaystyle \\left[\\begin{matrix}1.0\\\\2.0\\\\-1.0\\\\1.0\\end{matrix}\\right]$"
      ],
      "text/plain": [
       "Matrix([\n",
       "[ 1.0],\n",
       "[ 2.0],\n",
       "[-1.0],\n",
       "[ 1.0]])"
      ]
     },
     "metadata": {},
     "output_type": "display_data"
    }
   ],
   "source": [
    "#Dolittle Method\n",
    "t=time.time()\n",
    "L,U = dolittle(C)                          #generating and displaying L and U\n",
    "print(\"L : \")\n",
    "display(Matrix(L))\n",
    "print(\"U : \")\n",
    "display(Matrix(U))\n",
    "\n",
    "z = forward_substitution(L, D)             #solving for intermediate vector\n",
    "\n",
    "print(\"\\nintermediate vector z :\")\n",
    "display(Matrix(z))\n",
    "\n",
    "x = back_substitution(U, z)                #solution vector \n",
    "\n",
    "print(\"\\nsolution vector x :\")\n",
    "display(Matrix(x))\n",
    "dolittle_time=time.time()-t"
   ]
  },
  {
   "cell_type": "code",
   "execution_count": 34,
   "metadata": {
    "scrolled": false
   },
   "outputs": [
    {
     "name": "stdout",
     "output_type": "stream",
     "text": [
      "L : \n"
     ]
    },
    {
     "data": {
      "text/latex": [
       "$\\displaystyle \\left[\\begin{matrix}10.0 & 0.0 & 0.0 & 0.0\\\\-1.0 & 10.9 & 0.0 & 0.0\\\\2.0 & -0.8 & 9.54128440366972 & 0.0\\\\0.0 & 3.0 & -0.779816513761468 & 7.11057692307692\\end{matrix}\\right]$"
      ],
      "text/plain": [
       "Matrix([\n",
       "[10.0,  0.0,                0.0,              0.0],\n",
       "[-1.0, 10.9,                0.0,              0.0],\n",
       "[ 2.0, -0.8,   9.54128440366972,              0.0],\n",
       "[ 0.0,  3.0, -0.779816513761468, 7.11057692307692]])"
      ]
     },
     "metadata": {},
     "output_type": "display_data"
    },
    {
     "name": "stdout",
     "output_type": "stream",
     "text": [
      "U : \n"
     ]
    },
    {
     "data": {
      "text/latex": [
       "$\\displaystyle \\left[\\begin{matrix}1.0 & -0.1 & 0.2 & 0.0\\\\0.0 & 1.0 & -0.073394495412844 & 0.275229357798165\\\\0.0 & 0.0 & 1.0 & -0.0817307692307692\\\\0.0 & 0.0 & 0.0 & 1.0\\end{matrix}\\right]$"
      ],
      "text/plain": [
       "Matrix([\n",
       "[1.0, -0.1,                0.2,                 0.0],\n",
       "[0.0,  1.0, -0.073394495412844,   0.275229357798165],\n",
       "[0.0,  0.0,                1.0, -0.0817307692307692],\n",
       "[0.0,  0.0,                0.0,                 1.0]])"
      ]
     },
     "metadata": {},
     "output_type": "display_data"
    },
    {
     "name": "stdout",
     "output_type": "stream",
     "text": [
      "\n",
      "intermediate vector z :\n"
     ]
    },
    {
     "data": {
      "text/latex": [
       "$\\displaystyle \\left[\\begin{matrix}0.6\\\\2.34862385321101\\\\-1.08173076923077\\\\1.0\\end{matrix}\\right]$"
      ],
      "text/plain": [
       "Matrix([\n",
       "[              0.6],\n",
       "[ 2.34862385321101],\n",
       "[-1.08173076923077],\n",
       "[              1.0]])"
      ]
     },
     "metadata": {},
     "output_type": "display_data"
    },
    {
     "name": "stdout",
     "output_type": "stream",
     "text": [
      "\n",
      "solution vector x :\n"
     ]
    },
    {
     "data": {
      "text/latex": [
       "$\\displaystyle \\left[\\begin{matrix}1.0\\\\2.0\\\\-1.0\\\\1.0\\end{matrix}\\right]$"
      ],
      "text/plain": [
       "Matrix([\n",
       "[ 1.0],\n",
       "[ 2.0],\n",
       "[-1.0],\n",
       "[ 1.0]])"
      ]
     },
     "metadata": {},
     "output_type": "display_data"
    }
   ],
   "source": [
    "#Crout Method\n",
    "t=time.time()\n",
    "L,U = crout(C)                             #generating and displaying L and U\n",
    "print(\"L : \")\n",
    "display(Matrix(L))\n",
    "print(\"U : \")\n",
    "display(Matrix(U))\n",
    "\n",
    "z = forward_substitution(L, D)             #solving for intermediate vector\n",
    "\n",
    "print(\"\\nintermediate vector z :\")\n",
    "display(Matrix(z))\n",
    "\n",
    "x = back_substitution(U, z)                #solution vector\n",
    "\n",
    "print(\"\\nsolution vector x :\")\n",
    "display(Matrix(x))  \n",
    "crout_time=time.time()-t"
   ]
  },
  {
   "cell_type": "markdown",
   "metadata": {},
   "source": [
    "## Question 3\n",
    "\n",
    "The next method used to solve this linear system will be an iterative technique known as the Gauss-Seidel Method. This can be implemented using the following algorithm:\n",
    "\n",
    "$$x_i^{(k+1)} = \\frac{1}{a_{ii}}\\left[-\\sum_{j=1}^{i-1} (-a_{ij} x_j^{(k+1)}) -\\sum_{j=i+1}^{n} (-a_{ij} x_j^{(k)}) + b_i\\right]$$\n",
    "\n",
    "$$\\forall i \\in \\{1,..,n\\}$$\n",
    "\n",
    "It should be noted the most up to date values of $x$ are used in the calculations, contrary to the Jacobi method where only the last iterations values of $x$ are used.\n",
    "\n",
    "The use of the $l_\\infty$ norm was used as a convergence criteria, where:\n",
    "\n",
    "$$\\frac{||\\underline{x}^{(k+1)}-\\underline{x}^{(k)}||_\\infty}{||\\underline{x}^{(k)}||_\\infty} < \\epsilon$$\n",
    "\n",
    "where $\\epsilon$ is the specified tolerance, and $||\\underline{x}^{(k)}||_\\infty = \\max_{1\\le i \\le n} |x_i|$. Initial guesses of $X^{(0)} = (0,0,0,0) $ and $ X^{(0)} = (1,1,1,1)$ are used:\n",
    "\n"
   ]
  },
  {
   "cell_type": "code",
   "execution_count": 35,
   "metadata": {},
   "outputs": [],
   "source": [
    "#Gauss-Seidel\n",
    "def GS(A,B,x,eps):\n",
    "    \n",
    "    n=len(A)\n",
    "    count=0\n",
    "    flag=False\n",
    "    x_old=np.zeros(n)                                         \n",
    "    \n",
    "    while flag==False:\n",
    "        \n",
    "        for i in range(n):                                    #calculates next iteration of x\n",
    "            summ1=0\n",
    "            summ2=0\n",
    "\n",
    "            for j in range(i):\n",
    "                summ1+=A[i,j]*x[j]\n",
    "            for j in range(i+1,n):\n",
    "                summ2+=A[i,j]*x[j]\n",
    "            x[i] = (-summ1 -summ2 + B[i])/A[i,i]\n",
    "        \n",
    "        if count == 0:                                        #prevents division by zero in first iteration to stop ugly warning\n",
    "            \n",
    "            converge_condition = eps\n",
    "            print(\"\\n\\nthe solution vector x:\",x,\"\\nthe l infinity norm is undefined\") #prints stats\n",
    "        else:\n",
    "            l_infinity=np.max(np.abs(x-x_old))\n",
    "            converge_condition = np.max(np.abs(x-x_old))/np.max(np.abs(x_old))\n",
    "            print(\"\\n\\nthe solution vector x:\",x,\"\\nthe l infinity norm:\",l_infinity)\n",
    "            \n",
    "        \n",
    "        \n",
    "        if converge_condition<eps:                            #checks exit condition\n",
    "            flag=True\n",
    "\n",
    "        x_old=x.copy()\n",
    "        count+=1 \n",
    "        \n",
    "    return(x,count)                                           #returns solution vector, and also number of iterations to solve"
   ]
  },
  {
   "cell_type": "markdown",
   "metadata": {},
   "source": [
    "A value of $\\epsilon = 0.0001$ will be used, with initial guesses of $x^{(0)} = (0,0,0,0)$ and $x^{(0)} = (1,1,1,1)$."
   ]
  },
  {
   "cell_type": "code",
   "execution_count": 36,
   "metadata": {},
   "outputs": [
    {
     "name": "stdout",
     "output_type": "stream",
     "text": [
      "\n",
      "\n",
      "the solution vector x: [ 0.6         2.32727273 -0.98727273  0.87886364] \n",
      "the l infinity norm is undefined\n",
      "\n",
      "\n",
      "the solution vector x: [ 1.03018182  2.03693802 -1.0144562   0.98434122] \n",
      "the l infinity norm: 0.43018181818181833\n",
      "\n",
      "\n",
      "the solution vector x: [ 1.00658504  2.00355502 -1.00252738  0.99835095] \n",
      "the l infinity norm: 0.033382999624342435\n",
      "\n",
      "\n",
      "the solution vector x: [ 1.00086098  2.00029825 -1.00030728  0.99984975] \n",
      "the l infinity norm: 0.005724062697220145\n",
      "\n",
      "\n",
      "the solution vector x: [ 1.00009128  2.00002134 -1.00003115  0.9999881 ] \n",
      "the l infinity norm: 0.000769698339099012\n",
      "\n",
      "\n",
      "the solution vector x: [ 1.00000836  2.00000117 -1.00000275  0.99999922] \n",
      "the l infinity norm: 8.291662466008987e-05\n",
      "\n",
      "\n",
      "Final Solution Vector x: [ 1.00000836  2.00000117 -1.00000275  0.99999922] \n",
      "\n",
      "Number of Iterations until convergence criterion met: 6\n",
      "\n",
      "time= 0.0029916763305664062\n"
     ]
    }
   ],
   "source": [
    "t=time.time()\n",
    "n=len(C)               #with initial guess np.zeros(n)\n",
    "eps=0.0001\n",
    "x_gs_zeros,iteration_gs_zeros=GS(C,D,np.zeros(n),eps)\n",
    "print(\"\\n\\nFinal Solution Vector x:\",x_gs_zeros, \"\\n\\nNumber of Iterations until convergence criterion met:\",iteration_gs_zeros)\n",
    "GS_time_zeros=time.time()-t\n",
    "GS_acc_zeros=x_gs_zeros-sol\n",
    "print(\"\\ntime=\",GS_time_zeros)"
   ]
  },
  {
   "cell_type": "code",
   "execution_count": 37,
   "metadata": {
    "scrolled": false
   },
   "outputs": [
    {
     "name": "stdout",
     "output_type": "stream",
     "text": [
      "\n",
      "\n",
      "the solution vector x: [ 0.5         2.13636364 -0.88636364  0.96306818] \n",
      "the l infinity norm is undefined\n",
      "\n",
      "\n",
      "the solution vector x: [ 0.99090909  2.01957645 -0.99991736  0.99266916] \n",
      "the l infinity norm: 0.49090909090909096\n",
      "\n",
      "\n",
      "the solution vector x: [ 1.00194112  2.0021833  -1.00090298  0.99906839] \n",
      "the l infinity norm: 0.01739314894815891\n",
      "\n",
      "\n",
      "the solution vector x: [ 1.00039893  2.00020825 -1.00015212  0.99990289] \n",
      "the l infinity norm: 0.0019750451535927027\n",
      "\n",
      "\n",
      "the solution vector x: [ 1.00005125  2.00001731 -1.00001823  0.99999123] \n",
      "the l infinity norm: 0.00034767579720496045\n",
      "\n",
      "\n",
      "the solution vector x: [ 1.00000538  2.00000122 -1.00000183  0.99999931] \n",
      "the l infinity norm: 4.587203948491769e-05\n",
      "\n",
      "\n",
      "Final Solution Vector x: [ 1.00000538  2.00000122 -1.00000183  0.99999931] \n",
      "\n",
      "Number of Iterations until convergence criterion met: 6\n",
      "\n",
      "time= 0.00698089599609375\n"
     ]
    }
   ],
   "source": [
    "t=time.time()\n",
    "n=len(C)               #with initial guess np.ones(n)\n",
    "eps=0.0001\n",
    "x_gs_ones,iteration_gs_ones=GS(C,D,np.ones(n),eps)\n",
    "print(\"\\n\\nFinal Solution Vector x:\",x_gs_ones, \"\\n\\nNumber of Iterations until convergence criterion met:\",iteration_gs_ones)\n",
    "GS_time_ones=time.time()-t\n",
    "GS_acc_ones=x_gs_ones-sol\n",
    "print(\"\\ntime=\",GS_time_ones)"
   ]
  },
  {
   "cell_type": "markdown",
   "metadata": {},
   "source": [
    "## Question 4\n",
    "\n",
    "Successive-Over-Relaxation Methods can be used to further increase ths speed of convergance of iterative methods. In the case of the Gauss-Seidel method, an additional term $\\omega$ can be introduces such that:\n",
    "\n",
    "\n",
    "$$x_i^{(k+1)} =x_{i}^{(k)}(1-\\omega)+ \\frac{\\omega}{a_{ii}}\\left[-\\sum_{j=1}^{i-1} (-a_{ij} x_j^{(k+1)}) -\\sum_{j=i+1}^{n} (-a_{ij} x_j^{(k)}) + b_i\\right]$$\n",
    "\n",
    "$$\\forall i \\in \\{1,..,n\\}$$\n",
    "\n",
    "The value of $\\omega$ used determines the speed of convergence, where 0 < $\\omega$ < 1 procedures are referred to as under-relaxation methods and $\\omega$ > 1 methods are called over-relaxation methods. In the case of this report, a over-relaxtion method will be used with $\\omega = 1.1$. The code implementation lies below, with initial guess $X^{(0)} = (0,0,0,0)$:\n"
   ]
  },
  {
   "cell_type": "code",
   "execution_count": 38,
   "metadata": {},
   "outputs": [],
   "source": [
    "def SOR_GS(A,B,x,eps,w):\n",
    "    n=len(A)\n",
    "    count=0\n",
    "    flag=False\n",
    "    x_old=np.zeros(n)\n",
    "    while flag==False:\n",
    "        for i in range(n):\n",
    "            summ1=0\n",
    "            summ2=0\n",
    "\n",
    "            for j in range(i):                               #standard GS implementation\n",
    "                summ1+=A[i,j]*x[j]\n",
    "            for j in range(i+1,n):\n",
    "                summ2+=A[i,j]*x[j]\n",
    "            x[i] = x[i]*(1-w) + (w/A[i,i])*(-summ1 -summ2 + B[i])       #small change in formula results in SOR implementation\n",
    "\n",
    "        if count == 0:                                        #prevents division by zero in first iteration to stop ugly warning\n",
    "            \n",
    "            converge_condition = eps\n",
    "            print(\"\\n\\nthe solution vector x:\",x,\"\\nthe l infinity norm is undefined\") #prints stats\n",
    "        else:\n",
    "            l_infinity=np.max(np.abs(x-x_old))\n",
    "            converge_condition = np.max(np.abs(x-x_old))/np.max(np.abs(x_old))\n",
    "            print(\"\\n\\nthe solution vector x:\",x,\"\\nthe l infinity norm:\",l_infinity)\n",
    "        \n",
    "        if converge_condition<eps:                            #checks exit condition\n",
    "            flag=True\n",
    "\n",
    "        count+=1\n",
    "        x_old=x.copy()\n",
    "    return(x,count)"
   ]
  },
  {
   "cell_type": "code",
   "execution_count": 39,
   "metadata": {},
   "outputs": [
    {
     "name": "stdout",
     "output_type": "stream",
     "text": [
      "\n",
      "\n",
      "the solution vector x: [ 0.66        2.566      -1.07294     0.85649575] \n",
      "the l infinity norm is undefined\n",
      "\n",
      "\n",
      "the solution vector x: [ 1.1123068   1.99038796 -1.03425629  1.01360515] \n",
      "the l infinity norm: 0.5756120450000002\n",
      "\n",
      "\n",
      "the solution vector x: [ 0.99524838  1.99297887 -0.99480477  1.00225005] \n",
      "the l infinity norm: 0.1170584214910001\n",
      "\n",
      "\n",
      "the solution vector x: [ 0.99855989  2.00040261 -0.99991091  0.99962117] \n",
      "the l infinity norm: 0.007423743761788115\n",
      "\n",
      "\n",
      "the solution vector x: [ 1.0001687   2.00009917 -1.00007679  0.99998642] \n",
      "the l infinity norm: 0.0016088103342024596\n",
      "\n",
      "\n",
      "the solution vector x: [ 1.00001093  1.99998757 -0.99999759  1.00000682] \n",
      "the l infinity norm: 0.0001577661997711477\n",
      "\n",
      "\n",
      " [ 1.00001093  1.99998757 -0.99999759  1.00000682] \n",
      "\n",
      " iteration number: 6\n",
      "\n",
      "time= 0.0049860477447509766\n"
     ]
    }
   ],
   "source": [
    "t = time.time()    \n",
    "n=len(C)\n",
    "x,iteration=SOR_GS(C,np.matmul(P,B),np.zeros(n),0.0001,1.1)\n",
    "print(\"\\n\\n\",x, \"\\n\\n iteration number:\",iteration)\n",
    "SOR_time=time.time()-t\n",
    "SOR_acc=x-sol\n",
    "print(\"\\ntime=\",SOR_time)"
   ]
  },
  {
   "cell_type": "markdown",
   "metadata": {},
   "source": [
    "## Question 5\n",
    "\n",
    "In summary, in this report we implemented two methods of solving a linear system. The first of which was a direct method, namely LU decomposition in the form of both Dolittle and Crout's method. We also implemented an iterative scheme known as the Gauss-Seidel Method, aswell as an successive over-relaxtion variant of Gauss-Seidel where we used $\\omega = 1.1$ as an accelleration factor.\n",
    "\n",
    "The computational time of each method was recorded, aswell as the accuracy and error, where the error was the average of the absolute error of the solution:\n",
    "\n"
   ]
  },
  {
   "cell_type": "markdown",
   "metadata": {},
   "source": [
    "| Method | Time (seconds)| Error |\n",
    "| --- | --- | ------ |\n",
    "| Dolittle Method | 0.0170 | 0|\n",
    "| Crout Method | 0.01892 | 0 |\n",
    "| Gauss-Seidel (initial guess $X^{(0)} = (1,1,1,1)$| 0.0050 | $1$ x $10^{-6}$ |\n",
    "| Gauss-Seidel (initial guess $X^{(0)} = (0,0,0,0)$| 0.0070 | $1.5$ x $10^{-6}$ |\n",
    "| Gauss-Seidel with SOR $\\omega = 1.1$ (initial guess $X^{(0)} = (0,0,0,0)$| 0.0060 | $2$ x $10^{-6}$ |"
   ]
  },
  {
   "cell_type": "markdown",
   "metadata": {},
   "source": [
    "We found that the direct methods were by far the most accurate, giving exact values of the solution with an error of 0. They were also however the least computationally efficient method, with both the Dolittle method and the Crout method being approximatley two orders of magnitude slower than the iterative techniques.\n",
    "\n",
    "All three variantions of the Gauss-Seidel method met the convergence criteria in 6 iterations. The SOR method had no noticable improvement in the convergence time, and infact resulted in a less accurate solution. It is possible that the value of $\\omega$ = 1.1 was not the optimum value, and further analysis would have to be undertaken to discover the optimum value of $\\omega$ to conclude whether or not SOR methods are obsolete in this setting.\n",
    "\n",
    "For the basic Gauss-Seidel implementation, there appeared to be a marginal increase in both accuracy and computational efficiency when using an initial guess of $X^{(0)} = (1,1,1,1)$, however with only one sample for each intial guess, it is not possible to know whether or not using varying intial guesses improves the accuracy and compuational time, and further analysis would have to be undertaken to draw any conclusions.\n",
    "\n",
    "The linear system used in this report was of only four dimensions, at which the computational efficiency of the methods used are fairly trivial as they are generally much less than a second in execution time. However for larger order systems the computational efficiency is of a greater importance, and therefore iterative techniques maybe the preferred method to solve a linear system. Generally, the running time of LU decomposition methods is $N^3$ and the memory allocation requirement is $N^2$. This is much larger than that of iterative techniques where the run time is proportional to the product of the number of non zero entries and the number of iterations completed, and the memory requirement is proportional to the numbber of non zero entries. "
   ]
  },
  {
   "cell_type": "code",
   "execution_count": null,
   "metadata": {},
   "outputs": [],
   "source": []
  },
  {
   "cell_type": "code",
   "execution_count": null,
   "metadata": {},
   "outputs": [],
   "source": []
  },
  {
   "cell_type": "code",
   "execution_count": null,
   "metadata": {},
   "outputs": [],
   "source": []
  }
 ],
 "metadata": {
  "kernelspec": {
   "display_name": "Python 3 (ipykernel)",
   "language": "python",
   "name": "python3"
  },
  "language_info": {
   "codemirror_mode": {
    "name": "ipython",
    "version": 3
   },
   "file_extension": ".py",
   "mimetype": "text/x-python",
   "name": "python",
   "nbconvert_exporter": "python",
   "pygments_lexer": "ipython3",
   "version": "3.9.12"
  },
  "varInspector": {
   "cols": {
    "lenName": 16,
    "lenType": 16,
    "lenVar": 40
   },
   "kernels_config": {
    "python": {
     "delete_cmd_postfix": "",
     "delete_cmd_prefix": "del ",
     "library": "var_list.py",
     "varRefreshCmd": "print(var_dic_list())"
    },
    "r": {
     "delete_cmd_postfix": ") ",
     "delete_cmd_prefix": "rm(",
     "library": "var_list.r",
     "varRefreshCmd": "cat(var_dic_list()) "
    }
   },
   "types_to_exclude": [
    "module",
    "function",
    "builtin_function_or_method",
    "instance",
    "_Feature"
   ],
   "window_display": false
  }
 },
 "nbformat": 4,
 "nbformat_minor": 4
}
